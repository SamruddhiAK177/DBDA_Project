{
 "cells": [
  {
   "cell_type": "markdown",
   "id": "b017212e-6ff3-4138-8ff5-7b4b75c57496",
   "metadata": {},
   "source": [
    "# EDA"
   ]
  },
  {
   "cell_type": "markdown",
   "id": "7e9c540a-ee7c-4870-8bf2-21358d9e3655",
   "metadata": {},
   "source": [
    "### import required packages"
   ]
  },
  {
   "cell_type": "code",
   "execution_count": 1,
   "id": "fcca60ce-d478-4c30-83a3-0c4d0e09f4bc",
   "metadata": {},
   "outputs": [],
   "source": [
    "\n",
    "import pandas as pd # for data wrangling purpose\n",
    "import numpy as np # Basic computation library\n",
    "import seaborn as sns # For Visualization \n",
    "import matplotlib.pyplot as plt # ploting package\n",
    "from sklearn.preprocessing import OneHotEncoder,MinMaxScaler,LabelEncoder\n",
    "\n",
    "%matplotlib inline\n",
    "import warnings # Filtering warnings\n",
    "warnings.filterwarnings('ignore')"
   ]
  },
  {
   "cell_type": "markdown",
   "id": "c33ea7f8-6915-4a78-89fe-67c31638d219",
   "metadata": {},
   "source": [
    "### load the data"
   ]
  },
  {
   "cell_type": "code",
   "execution_count": 2,
   "id": "97d344ae-c5a3-4824-aa84-adea092a855b",
   "metadata": {},
   "outputs": [],
   "source": [
    "df = pd.read_csv('updated_output10.csv')\n",
    "df.head()"
   ]
  },
  {
   "cell_type": "code",
   "execution_count": 3,
   "id": "d04fc1fe-c237-4c32-9e80-14c7e31998de",
   "metadata": {},
   "outputs": [],
   "source": [
    "df.tail()"
   ]
  },
  {
   "cell_type": "code",
   "execution_count": 4,
   "id": "9c4ad610-1dbf-4616-b8dd-696c32c32626",
   "metadata": {},
   "outputs": [],
   "source": [
    "print('No of Rows:',df.shape[0])\n",
    "print('No of Columns:',df.shape[1])"
   ]
  },
  {
   "cell_type": "code",
   "execution_count": 5,
   "id": "fe8e5dfa-d6ac-40da-a93b-37818b499bbe",
   "metadata": {},
   "outputs": [],
   "source": [
    "df.info()"
   ]
  },
  {
   "cell_type": "markdown",
   "id": "475a4c4b-5351-40a7-a827-8ec2a8a0eba3",
   "metadata": {},
   "source": [
    "## Handling NA values"
   ]
  },
  {
   "cell_type": "code",
   "execution_count": 6,
   "id": "63972300-fe76-496a-8ed2-6181fa44b359",
   "metadata": {},
   "outputs": [],
   "source": [
    "# check how many NA records are present\n",
    "df.isna().sum()"
   ]
  },
  {
   "cell_type": "code",
   "execution_count": 7,
   "id": "138fc1c0-07a7-42e1-ba0e-54f1a354557b",
   "metadata": {},
   "outputs": [],
   "source": [
    "df.isnull().sum()"
   ]
  },
  {
   "cell_type": "code",
   "execution_count": 8,
   "id": "1a9b61a8-70f0-4dc6-ac51-76793b2061d1",
   "metadata": {},
   "outputs": [],
   "source": [
    "df.drop_duplicates(inplace=True)"
   ]
  },
  {
   "cell_type": "code",
   "execution_count": 9,
   "id": "7409995e-8e54-4914-bc47-d2f4e3ee74bb",
   "metadata": {},
   "outputs": [],
   "source": [
    "df.isna().sum()"
   ]
  },
  {
   "cell_type": "code",
   "execution_count": 10,
   "id": "0b8d1612-1cee-4471-8e3c-ed6c108387f5",
   "metadata": {},
   "outputs": [],
   "source": [
    "df.dropna(inplace=True)"
   ]
  },
  {
   "cell_type": "code",
   "execution_count": 11,
   "id": "e3ff92ff-30d0-4626-a23a-657cf814543e",
   "metadata": {},
   "outputs": [],
   "source": [
    "df.isna().sum()"
   ]
  },
  {
   "cell_type": "code",
   "execution_count": 12,
   "id": "f6d9533d-8ad1-49d9-bd3f-b59b386ee7e3",
   "metadata": {},
   "outputs": [],
   "source": [
    "df.describe()"
   ]
  },
  {
   "cell_type": "markdown",
   "id": "90f7f873-bbc6-426a-90d0-86980fb8bbab",
   "metadata": {},
   "source": [
    "### Data Integrity Check\n",
    "#### Since dataset is large, Let check for any entry which is repeated or duplicated in dataset."
   ]
  },
  {
   "cell_type": "code",
   "execution_count": 13,
   "id": "74e1a605-3bf9-4162-a433-527e464859d2",
   "metadata": {},
   "outputs": [],
   "source": [
    "# View only the duplicate rows\n",
    "duplicate_rows = df[df.duplicated()]\n",
    "duplicate_rows.shape"
   ]
  },
  {
   "cell_type": "markdown",
   "id": "e33ed436-7a5a-45a7-b1e6-c7a0cd2635f7",
   "metadata": {},
   "source": [
    "## Preprocessing"
   ]
  },
  {
   "cell_type": "code",
   "execution_count": 14,
   "id": "f8d2266a-9a4c-479c-abc6-d529e2a5cfea",
   "metadata": {},
   "outputs": [],
   "source": [
    "# Sort columns by datatypes\n",
    "df.columns.to_series().groupby(df.dtypes).groups"
   ]
  },
  {
   "cell_type": "markdown",
   "id": "4ca53351-6480-4d1f-b9d6-6726f0d343e7",
   "metadata": {},
   "source": [
    "### Expected Datatypes\n",
    "{int64: ['days_left', 'price'], float64: ['duration'], object: ['airline', 'flight', 'source_city', 'departure_time', 'stops', 'arrival_time', 'destination_city', 'class']}"
   ]
  },
  {
   "cell_type": "code",
   "execution_count": 15,
   "id": "d4f0401e-69ea-4b8b-8f17-f487db530a36",
   "metadata": {},
   "outputs": [],
   "source": [
    "# Spliting data into categorical and Numerical Variable\n",
    "Numerical =['duration', 'days_left', 'price']\n",
    "\n",
    "Categorical = [ 'airline', 'source_city', 'departure_time', 'stops', 'arrival_time', 'destination_city', 'class']"
   ]
  },
  {
   "cell_type": "code",
   "execution_count": 16,
   "id": "56ebd9a6-9081-4257-9bfc-2206f4de4b2f",
   "metadata": {},
   "outputs": [],
   "source": [
    "for i in Categorical:\n",
    "    print('Unique value counts of ',i, 'Enlisted as Below Table :')\n",
    "    print('-'*40)\n",
    "    print(df[i].value_counts())\n",
    "    print(\"*\"*120)"
   ]
  },
  {
   "cell_type": "markdown",
   "id": "fcdd54da-8619-4e90-83e5-cecf2c552380",
   "metadata": {},
   "source": [
    "#### We also need to do some feature engineering on Source and Destination City columns, We can see at some place 'GOX' is mention and other places 'Goa' is mention.\n"
   ]
  },
  {
   "cell_type": "code",
   "execution_count": 17,
   "id": "0ba7afd5-41b9-44b5-8e20-71bf199099c4",
   "metadata": {},
   "outputs": [],
   "source": [
    "# Replacing \"GOX\" as \"Goa\" in source_city column\n",
    "df[\"source_city\"] = df[\"source_city\"].replace(\"GOX\",\"Goa\")\n",
    "df['source_city'].value_counts()"
   ]
  },
  {
   "cell_type": "code",
   "execution_count": 18,
   "id": "cbf4af2c",
   "metadata": {},
   "outputs": [],
   "source": [
    "df[\"source_city\"] = df[\"source_city\"].replace(\"Bengaluru\",\"Bangalore\")\n",
    "df['source_city'].value_counts()"
   ]
  },
  {
   "cell_type": "code",
   "execution_count": 19,
   "id": "43620f5f",
   "metadata": {},
   "outputs": [],
   "source": [
    "df[\"airline\"] = df[\"airline\"].replace(\"Air_India\",\"Air India\")\n",
    "df['airline'].value_counts()"
   ]
  },
  {
   "cell_type": "code",
   "execution_count": 20,
   "id": "c633b53e-5fc2-4ae9-9471-8a64e903761c",
   "metadata": {},
   "outputs": [],
   "source": [
    "# Replacing \"GOX\" as \"Goa\" in destination_city column\n",
    "df[\"destination_city\"] = df[\"destination_city\"].replace(\"GOX\",\"Goa\")\n",
    "df['destination_city'].value_counts()"
   ]
  },
  {
   "cell_type": "code",
   "execution_count": 21,
   "id": "8ca54e9c",
   "metadata": {},
   "outputs": [],
   "source": [
    "df[\"destination_city\"] = df[\"destination_city\"].replace(\"Bengaluru\",\"Bangalore\")\n",
    "df['destination_city'].value_counts()"
   ]
  },
  {
   "cell_type": "code",
   "execution_count": 22,
   "id": "93a0f0bd-23cc-48df-bb0e-9c158bfba89a",
   "metadata": {},
   "outputs": [],
   "source": [
    "df = df[~df['class'].isin(['OperatedBy: Vistara', 'OperatedBy: Air India Express'])]"
   ]
  },
  {
   "cell_type": "code",
   "execution_count": 23,
   "id": "aed93d49-9a36-4be6-9913-725edd90ace7",
   "metadata": {},
   "outputs": [],
   "source": [
    "# remove the unwanted columns\n",
    "df.drop(['flight'], axis=1, inplace=True)"
   ]
  },
  {
   "cell_type": "code",
   "execution_count": 24,
   "id": "625c954b-f2d3-4fdd-8b60-e3144e5657d8",
   "metadata": {},
   "outputs": [],
   "source": [
    "df['days_left'] = df['days_left'].astype(int)\n",
    "df['price'] = df['price'].astype(int)"
   ]
  },
  {
   "cell_type": "code",
   "execution_count": 25,
   "id": "73d6b819-fefb-46e3-840e-1266f388c159",
   "metadata": {},
   "outputs": [],
   "source": [
    "df.columns.to_series().groupby(df.dtypes).groups"
   ]
  },
  {
   "cell_type": "code",
   "execution_count": 26,
   "id": "7cc54100-3607-42d6-8fa1-57ad090721b0",
   "metadata": {},
   "outputs": [],
   "source": [
    "df.head()"
   ]
  },
  {
   "cell_type": "code",
   "execution_count": 27,
   "id": "50dae6de-c2ac-4b42-b244-6ba6b6c3af70",
   "metadata": {},
   "outputs": [],
   "source": [
    "# Exporting a single DataFrame to an Excel file\n",
    "df.to_excel('output.xlsx', sheet_name='Sheet1', index=False)\n"
   ]
  },
  {
   "cell_type": "code",
   "execution_count": 28,
   "id": "c5a2c899-576e-4444-836b-c7d886289cdb",
   "metadata": {},
   "outputs": [],
   "source": [
    "for i in Categorical:\n",
    "    print('Unique value counts of ',i, 'Enlisted as Below Table :')\n",
    "    print('-'*40)\n",
    "    print(df[i].value_counts())\n",
    "    print(\"*\"*120)"
   ]
  },
  {
   "cell_type": "code",
   "execution_count": 29,
   "id": "39622e8f-64c2-4380-8f32-9e82556cd981",
   "metadata": {},
   "outputs": [],
   "source": [
    "# As Airline is Nominal Categorical data we will perform OneHotEncoding\n",
    "airline = df[[\"airline\"]]\n",
    "Current_airline_List = airline['airline']\n",
    "New_airline_List = []\n",
    "\n",
    "for carrier in Current_airline_List:\n",
    "  if carrier in ['Vistara','Air_India','Indigo','GO_FIRST','AirAsia','SpiceJet','Air India','Air India Express']:\n",
    "    New_airline_List.append(carrier)\n",
    "  else:\n",
    "    New_airline_List.append('Other')\n",
    "\n",
    "airline['airline'] = pd.DataFrame(New_airline_List)\n",
    "airline['airline'].value_counts()"
   ]
  },
  {
   "cell_type": "code",
   "execution_count": 30,
   "id": "e498b78e-d10d-40b0-a7f5-5b209630f5b9",
   "metadata": {},
   "outputs": [],
   "source": [
    "df['airline'] = airline['airline']"
   ]
  },
  {
   "cell_type": "code",
   "execution_count": 31,
   "id": "50a5e22c-512a-4a90-84cb-b50ea005a668",
   "metadata": {},
   "outputs": [],
   "source": [
    "df['airline'].value_counts()"
   ]
  },
  {
   "cell_type": "code",
   "execution_count": 32,
   "id": "00601fa8-582d-4234-913f-2360e62a4224",
   "metadata": {},
   "outputs": [],
   "source": [
    "df.describe()"
   ]
  },
  {
   "cell_type": "code",
   "execution_count": 33,
   "id": "b9d996a1-3abb-4844-80c8-667dfa9fc890",
   "metadata": {},
   "outputs": [],
   "source": [
    "df[Categorical].describe().T.style.background_gradient(cmap='summer_r')"
   ]
  },
  {
   "cell_type": "markdown",
   "id": "bd15a360-b95b-4d71-8324-ae7fed6301cf",
   "metadata": {},
   "source": [
    "#### Observation :\n",
    "- The Minimum flight ticket price is Rs. 1013.00 and Maximum flight ticket price is Rs.189754.00.\n",
    "- The ( mean > median ) for Price,Duration and departure_time which mean right skew data.\n",
    "- Presense of outliers in Duration & Price columns as we see huge difference in 75% and max.\n",
    "- High value of std. deviation indicating spread of data.\n",
    "- There are 9 airline in dataset with maximum flight run by Vistara Airlines.\n",
    "- Long route flight have atleast one 1 stop."
   ]
  },
  {
   "cell_type": "code",
   "execution_count": 34,
   "id": "566ed047-3233-42db-ab45-eeb912cd10ca",
   "metadata": {},
   "outputs": [],
   "source": [
    "inputs_cols=['airline',  'source_city', 'departure_time','stops', 'arrival_time',\n",
    "            'destination_city', 'class', 'duration','days_left' ]\n",
    "targets_col='price'"
   ]
  },
  {
   "cell_type": "code",
   "execution_count": 35,
   "id": "94152cfd-ae86-4ce0-95e2-f087303113d1",
   "metadata": {},
   "outputs": [],
   "source": [
    "Numerical =['duration', 'days_left', 'price']\n",
    "\n",
    "Categorical = [ 'airline', 'source_city', 'departure_time', 'stops', 'arrival_time', 'destination_city', 'class']"
   ]
  },
  {
   "cell_type": "markdown",
   "id": "6fafb45a-b85b-4121-833a-25fe0fd253b5",
   "metadata": {},
   "source": [
    "## Removing outlier from duration"
   ]
  },
  {
   "cell_type": "code",
   "execution_count": 36,
   "id": "61bf061a-f630-439e-9f6d-f4ad49bec8c0",
   "metadata": {},
   "outputs": [],
   "source": [
    "sns.boxplot(df[inputs_cols])"
   ]
  },
  {
   "cell_type": "code",
   "execution_count": 37,
   "id": "d7430461-e7d0-4b0e-903a-59641640adda",
   "metadata": {},
   "outputs": [],
   "source": [
    "# remove the outlier\n",
    "df = df[df.duration <=30]"
   ]
  },
  {
   "cell_type": "code",
   "execution_count": 38,
   "id": "81ed7b87-1716-4179-a6b5-5c5b9d978e50",
   "metadata": {},
   "outputs": [],
   "source": [
    "# remove the outlier\n",
    "df = df[df.price <=100000]"
   ]
  },
  {
   "cell_type": "code",
   "execution_count": 39,
   "id": "8dd1498a-24b0-4bc7-8d43-1342145de629",
   "metadata": {},
   "outputs": [],
   "source": [
    "df"
   ]
  },
  {
   "cell_type": "code",
   "execution_count": 40,
   "id": "e394c628-d18e-4218-ab89-985848637c7b",
   "metadata": {},
   "outputs": [],
   "source": [
    "sns.boxplot(df[inputs_cols])"
   ]
  },
  {
   "cell_type": "code",
   "execution_count": 41,
   "id": "8344a955-bc31-4276-925c-5a94c693f1e1",
   "metadata": {},
   "outputs": [],
   "source": [
    "plt.figure(figsize=(18,10),facecolor='white')\n",
    "plotnumber=1\n",
    "\n",
    "for column in Numerical:\n",
    "    if plotnumber<=6:\n",
    "        ax=plt.subplot(2,3,plotnumber)\n",
    "        sns.boxplot(df[column],color='g')\n",
    "        plt.xlabel(column,fontsize=20)\n",
    "    plotnumber+=1\n",
    "plt.show()"
   ]
  },
  {
   "cell_type": "code",
   "execution_count": 42,
   "id": "3b7a35d3-e325-479f-a182-7e6d45153a3f",
   "metadata": {},
   "outputs": [],
   "source": [
    "plt.figure(figsize=(18,10),facecolor='white')\n",
    "plotnumber=1\n",
    "\n",
    "for column in Numerical:\n",
    "    if plotnumber<=6:\n",
    "        ax=plt.subplot(2,3,plotnumber)\n",
    "        sns.boxplot(df[column],color='g')\n",
    "        plt.xlabel(column,fontsize=20)\n",
    "    plotnumber+=1\n",
    "plt.show()"
   ]
  },
  {
   "cell_type": "code",
   "execution_count": 43,
   "id": "c4159ba5",
   "metadata": {},
   "outputs": [],
   "source": [
    "df.head()"
   ]
  },
  {
   "cell_type": "code",
   "execution_count": null,
   "id": "bcacf108-3b2e-41a8-9ffe-4631e345f510",
   "metadata": {},
   "outputs": [],
   "source": []
  },
  {
   "cell_type": "markdown",
   "id": "dd5e9ce6-133d-473e-84c1-f61f276da670",
   "metadata": {},
   "source": [
    "## Encoding"
   ]
  },
  {
   "cell_type": "code",
   "execution_count": 44,
   "id": "c720ecbb-9baa-48e7-95d4-cb1868de2f3b",
   "metadata": {},
   "outputs": [],
   "source": [
    "airline = df[[\"airline\"]]\n",
    "airline = pd.get_dummies(airline, drop_first= True, dtype=int) \n",
    "# drop_first= True means we drop the first column to prevent multicollinearity\n",
    "airline.head()"
   ]
  },
  {
   "cell_type": "code",
   "execution_count": 45,
   "id": "e6e66330-e9a8-430f-a7ef-43fd1dd1c8be",
   "metadata": {},
   "outputs": [],
   "source": [
    "# As Source is Nominal Categorical data we will perform OneHotEncoding\n",
    "source_city = df[[\"source_city\"]]\n",
    "source_city = pd.get_dummies(source_city, drop_first= True, dtype=int) \n",
    "# drop_first= True means we drop the first column to prevent multicollinearity\n",
    "source_city.head()"
   ]
  },
  {
   "cell_type": "code",
   "execution_count": 46,
   "id": "a61a3c35-0784-455b-9c8b-c19069876f9f",
   "metadata": {},
   "outputs": [],
   "source": [
    "# As destination_city is Nominal Categorical data we will perform OneHotEncoding\n",
    "destination_city = df[[\"destination_city\"]]\n",
    "destination_city = pd.get_dummies(destination_city, drop_first= True, dtype=int) \n",
    "# drop_first= True means we drop the first column to prevent multicollinearity\n",
    "destination_city.head()\n"
   ]
  },
  {
   "cell_type": "code",
   "execution_count": 47,
   "id": "43bd9751-3e42-4897-bbfb-b140d7a32c0c",
   "metadata": {},
   "outputs": [],
   "source": [
    "df['stops'].value_counts()"
   ]
  },
  {
   "cell_type": "code",
   "execution_count": 48,
   "id": "1c990c6c-0d50-49dd-9ebb-5c4fafb8db2f",
   "metadata": {},
   "outputs": [],
   "source": [
    "# As this is case of Ordinal Categorical type we perform LabelEncoder\n",
    "# Here Values are assigned with corresponding keys\n",
    "df.replace({\"zero\": 0, \"one\": 1, \"2 stops\": 2, \"two_or_more\": 3}, inplace = True)\n",
    "df.head()"
   ]
  },
  {
   "cell_type": "code",
   "execution_count": 49,
   "id": "b0e287b8",
   "metadata": {},
   "outputs": [],
   "source": [
    "import pickle"
   ]
  },
  {
   "cell_type": "code",
   "execution_count": 50,
   "id": "db4fa439",
   "metadata": {},
   "outputs": [],
   "source": [
    "from sklearn.preprocessing import LabelEncoder\n",
    "\n",
    "# encode the class Column\n",
    "class_encoder = LabelEncoder()\n",
    "class_encoder.fit(df['class'])\n",
    "df['class'] = class_encoder.transform(df['class'])\n",
    "\n",
    "# save the geography encoder \n",
    "with open(\"class_encoder.pkl\", \"wb\") as file:\n",
    "    pickle.dump(class_encoder, file)"
   ]
  },
  {
   "cell_type": "code",
   "execution_count": 51,
   "id": "652df395",
   "metadata": {},
   "outputs": [],
   "source": [
    "from sklearn.preprocessing import LabelEncoder\n",
    "\n",
    "# encode the class Column\n",
    "departure_time_encoder = LabelEncoder()\n",
    "departure_time_encoder.fit(df['departure_time'])\n",
    "df['departure_time'] = departure_time_encoder.transform(df['departure_time'])\n",
    "\n",
    "# save the geography encoder \n",
    "with open(\"departure_time_encoder.pkl\", \"wb\") as file:\n",
    "    pickle.dump(departure_time_encoder, file)"
   ]
  },
  {
   "cell_type": "code",
   "execution_count": 52,
   "id": "d50f299c",
   "metadata": {},
   "outputs": [],
   "source": [
    "from sklearn.preprocessing import LabelEncoder\n",
    "\n",
    "# encode the class Column\n",
    "arrival_time_encoder = LabelEncoder()\n",
    "arrival_time_encoder.fit(df['arrival_time'])\n",
    "df['arrival_time'] = arrival_time_encoder.transform(df['arrival_time'])\n",
    "\n",
    "# save the geography encoder \n",
    "with open(\"arrival_time_encoder.pkl\", \"wb\") as file:\n",
    "    pickle.dump(arrival_time_encoder, file)"
   ]
  },
  {
   "cell_type": "code",
   "execution_count": 53,
   "id": "79cc221d-c69e-4179-a318-58f16dc42668",
   "metadata": {},
   "outputs": [],
   "source": [
    "# # Using Label Encoder on class variable\n",
    "# from sklearn.preprocessing import LabelEncoder\n",
    "# le = LabelEncoder()\n",
    "# df['class'] = le.fit_transform(df['class'])\n",
    "# df['departure_time'] = le.fit_transform(df['departure_time'])\n",
    "# df['arrival_time'] = le.fit_transform(df['arrival_time'])\n",
    "df.head()"
   ]
  },
  {
   "cell_type": "code",
   "execution_count": 54,
   "id": "2fa0387c-4afb-41c3-a7e6-fc5bd451d987",
   "metadata": {},
   "outputs": [],
   "source": [
    "df.drop(['airline','source_city','destination_city'],axis=1,inplace = True)"
   ]
  },
  {
   "cell_type": "code",
   "execution_count": 55,
   "id": "dc47607f-2548-442a-ba9c-a260f1a20db6",
   "metadata": {},
   "outputs": [],
   "source": [
    "df.head()"
   ]
  },
  {
   "cell_type": "code",
   "execution_count": 56,
   "id": "32e3eadc-2a00-4977-9cd5-0501132c8b34",
   "metadata": {},
   "outputs": [],
   "source": [
    "final_df = pd.concat([df,airline,source_city,destination_city],axis=1)\n",
    "final_df.head()"
   ]
  },
  {
   "cell_type": "code",
   "execution_count": 57,
   "id": "8fcb55ae-1be8-4920-bb52-8e0535f46749",
   "metadata": {},
   "outputs": [],
   "source": [
    "final_df.shape"
   ]
  },
  {
   "cell_type": "code",
   "execution_count": 58,
   "id": "095c4c31-eec6-40ea-bd34-5f491b39edf7",
   "metadata": {},
   "outputs": [],
   "source": [
    "final_df.columns"
   ]
  },
  {
   "cell_type": "code",
   "execution_count": 59,
   "id": "3e4b5c02-67d6-4b8b-8d9b-5863c1dab517",
   "metadata": {},
   "outputs": [],
   "source": [
    "x = final_df.drop('price',axis=1)\n",
    "y = final_df['price']"
   ]
  },
  {
   "cell_type": "code",
   "execution_count": 60,
   "id": "d7090bdd-07b7-48b0-bd70-d163d490f96c",
   "metadata": {},
   "outputs": [],
   "source": [
    "print(x.shape, y.shape)"
   ]
  },
  {
   "cell_type": "markdown",
   "id": "f7b4b7c1-09eb-43c8-be94-ae467faccf76",
   "metadata": {},
   "source": [
    "## Spliting data into train,test data"
   ]
  },
  {
   "cell_type": "code",
   "execution_count": 61,
   "id": "557a10a5-f9d4-463b-bae5-72f07a5365ad",
   "metadata": {},
   "outputs": [],
   "source": [
    "from sklearn.model_selection import train_test_split"
   ]
  },
  {
   "cell_type": "code",
   "execution_count": 62,
   "id": "91e205bc-2dc9-4e3f-b814-738e61d43491",
   "metadata": {},
   "outputs": [],
   "source": [
    "x_train, x_test, y_train, y_test =  train_test_split(x, y, train_size=0.7,random_state=42)\n",
    "print('Training feature matrix size:',x_train.shape)\n",
    "print('Training target vector size:',y_train.shape)\n",
    "print('Test feature matrix size:',x_test.shape)\n",
    "print('Test target vector size:',y_test.shape)"
   ]
  },
  {
   "cell_type": "markdown",
   "id": "c00f8d2f-b8c1-42fe-87fd-a17f63449c59",
   "metadata": {},
   "source": [
    "## Applying Different Models"
   ]
  },
  {
   "cell_type": "code",
   "execution_count": 63,
   "id": "dfc06274-063e-41f1-ad3a-91c77426f9ee",
   "metadata": {},
   "outputs": [],
   "source": [
    "from sklearn.linear_model import LinearRegression\n",
    "from sklearn.linear_model import LogisticRegression\n",
    "from sklearn.ensemble import RandomForestRegressor\n",
    "from sklearn.tree import DecisionTreeRegressor\n",
    "import xgboost as xgb\n",
    "from sklearn.ensemble import ExtraTreesRegressor\n",
    "from sklearn.svm import SVR\n",
    "from sklearn.ensemble import AdaBoostRegressor\n",
    "from sklearn.ensemble import  GradientBoostingRegressor\n",
    "from sklearn.neighbors import KNeighborsRegressor\n",
    "from sklearn.metrics import mean_squared_error, mean_absolute_error\n",
    "from sklearn.metrics import r2_score\n",
    "from sklearn.model_selection import train_test_split\n",
    "from sklearn.linear_model import  Ridge\n",
    "from sklearn.linear_model import  Lasso\n",
    "from xgboost import XGBRegressor"
   ]
  },
  {
   "cell_type": "markdown",
   "id": "1b5f4c41-4598-4b15-96c7-55b21c7ec638",
   "metadata": {},
   "source": [
    "## Linear Regression Base Model"
   ]
  },
  {
   "cell_type": "code",
   "execution_count": 64,
   "id": "4bbd5fab-9fce-46dc-bd10-e8404f12a898",
   "metadata": {},
   "outputs": [],
   "source": [
    "# create the model\n",
    "model = LinearRegression()\n",
    "\n",
    "# train the model\n",
    "model.fit(x_train, y_train)"
   ]
  },
  {
   "cell_type": "code",
   "execution_count": 65,
   "id": "d67a1178-c9ed-497e-ad0c-60fd608a6d06",
   "metadata": {},
   "outputs": [],
   "source": [
    "y_pred=model.predict(x_test)"
   ]
  },
  {
   "cell_type": "code",
   "execution_count": 66,
   "id": "62b7d0f3-29df-4cbc-8842-4035b4f6a1c7",
   "metadata": {},
   "outputs": [],
   "source": [
    "model.predict(x_test)"
   ]
  },
  {
   "cell_type": "code",
   "execution_count": 67,
   "id": "89163297-0900-489c-87e9-917597fe0b68",
   "metadata": {},
   "outputs": [],
   "source": [
    "print('\\033[1m'+' Error :'+'\\033[0m')\n",
    "print('Mean absolute error :', mean_absolute_error(y_test,y_pred))\n",
    "print('Mean squared error :', mean_squared_error(y_test,y_pred))\n",
    "print('Root Mean Squared Error:', np.sqrt(mean_squared_error(y_test,y_pred)))\n",
    "print('\\n')\n",
    "from sklearn.metrics import r2_score\n",
    "print('\\033[1m'+' R2 Score :'+'\\033[0m')\n",
    "print(r2_score(y_test,y_pred,multioutput='variance_weighted'))"
   ]
  },
  {
   "cell_type": "markdown",
   "id": "298c02d9-6ed1-49b3-8051-8e174d7bcb73",
   "metadata": {},
   "source": [
    "## Pick Best model for this dataset¶"
   ]
  },
  {
   "cell_type": "code",
   "execution_count": 68,
   "id": "4ab3b53a-66cd-4e4a-95b1-18e0a1c71f8a",
   "metadata": {},
   "outputs": [],
   "source": [
    "# # pick different model and test which is better \n",
    "# Linear_reg = LinearRegression(),\n",
    "# Ride_reg= Ridge()\n",
    "# XGBoost = XGBRegressor()\n",
    "# Random_forest = RandomForestRegressor()\n",
    "# Ada_boost = AdaBoostRegressor()\n",
    "# Grad_boost = GradientBoostingRegressor()"
   ]
  },
  {
   "cell_type": "code",
   "execution_count": 69,
   "id": "6e346711-72af-431b-be01-37d29e5a1836",
   "metadata": {},
   "outputs": [],
   "source": [
    "# pick different model and test which is better \n",
    "\n",
    "Linear_reg = LinearRegression(),\n",
    "Ride_reg= Ridge()\n",
    "XGBoost = XGBRegressor()\n",
    "Random_forest = RandomForestRegressor()\n",
    "Ada_boost = AdaBoostRegressor()\n",
    "Grad_boost = GradientBoostingRegressor()\n",
    "model_li = [Ride_reg,XGBoost,Random_forest,Ada_boost,Grad_boost]\n",
    "for model in model_li:\n",
    "    model.fit(x_train,y_train)\n",
    "    model.score(x_train,y_train)\n",
    "    y_pred = model.predict(x_test)\n",
    "    print('\\n')                                        \n",
    "    print('\\033[1m'+' Error of ', model, ':' +'\\033[0m')\n",
    "    print('Mean absolute error :', mean_absolute_error(y_test,y_pred))\n",
    "    print('Mean squared error :', mean_squared_error(y_test,y_pred))\n",
    "    print('Root Mean Squared Error:', np.sqrt(mean_squared_error(y_test,y_pred)))\n",
    "    print('\\n')\n",
    "\n",
    "    print('\\033[1m'+' R2 Score for test data:'+'\\033[0m')\n",
    "    print(r2_score(y_test,y_pred)) \n",
    "    print('==============================================================================================================')"
   ]
  },
  {
   "cell_type": "code",
   "execution_count": 70,
   "id": "23561d28-0c30-4b49-b680-dddb979ff14b",
   "metadata": {},
   "outputs": [],
   "source": [
    "# our Final Model  \n",
    "final_model = RandomForestRegressor()\n",
    "final_model.fit(x_train,y_train)\n",
    "print(\"The R2 score of Random Forest : \",r2_score(y_test,Random_forest.predict(x_test)))"
   ]
  },
  {
   "cell_type": "markdown",
   "id": "00fe748c-b2e6-4d92-be78-50e1e005f379",
   "metadata": {},
   "source": [
    "### Save the model"
   ]
  },
  {
   "cell_type": "markdown",
   "id": "b27e102f-9009-466c-a70c-2d40f22c0fce",
   "metadata": {},
   "source": [
    "<!-- ## Standard Scaling -->"
   ]
  },
  {
   "cell_type": "code",
   "execution_count": 71,
   "id": "56ced77d-3186-4ef6-860d-13d9df5e6896",
   "metadata": {},
   "outputs": [],
   "source": [
    "import pickle\n",
    "\n",
    "with open(\"Flight_Fare_Prediction_Model.pkl\", \"wb\") as file:\n",
    "    pickle.dump(final_model, file)"
   ]
  },
  {
   "cell_type": "code",
   "execution_count": 72,
   "id": "46ed47b2-97ee-4920-8710-316ddbd9a00d",
   "metadata": {},
   "outputs": [],
   "source": [
    "# sns.boxplot(df[inputs_cols])"
   ]
  },
  {
   "cell_type": "code",
   "execution_count": 73,
   "id": "62fc64c1-4a2b-4b2d-b4f3-41149fdda7d8",
   "metadata": {},
   "outputs": [],
   "source": [
    "# from sklearn.preprocessing import StandardScaler\n",
    "# scaler= StandardScaler()\n",
    "# array_scaled = scaler.fit_transform(df[inputs_cols])"
   ]
  },
  {
   "cell_type": "code",
   "execution_count": 74,
   "id": "71cf45c4-5940-4bea-b8e5-db6935765d63",
   "metadata": {},
   "outputs": [],
   "source": [
    "# sns.boxplot(df[inputs_cols])"
   ]
  },
  {
   "cell_type": "code",
   "execution_count": 75,
   "id": "10fe9195-1a2c-48f4-aec5-c228799d1fa4",
   "metadata": {},
   "outputs": [],
   "source": [
    "# scaler = MinMaxScaler()\n",
    "# scaler.fit(df[inputs_cols])\n",
    "# df[inputs_cols] = scaler.transform(df[inputs_cols])"
   ]
  },
  {
   "cell_type": "code",
   "execution_count": 76,
   "id": "9be6edf7-08d0-475f-9063-4afa9ce34037",
   "metadata": {},
   "outputs": [],
   "source": [
    "# sns.boxplot(df[inputs_cols])"
   ]
  },
  {
   "cell_type": "code",
   "execution_count": 77,
   "id": "e8ee290a-052c-4521-a743-a5d00fe63726",
   "metadata": {},
   "outputs": [],
   "source": [
    "# df.corr()"
   ]
  },
  {
   "cell_type": "code",
   "execution_count": 78,
   "id": "16c76e16-2922-49f5-ae3c-99e97712b518",
   "metadata": {},
   "outputs": [],
   "source": [
    "# plt.figure(figsize=(25,15))\n",
    "# sns.heatmap(df.corr(), vmin=-1, vmax=1, annot=True, square=True, fmt='0.3f', \n",
    "#             annot_kws={'size':10}, cmap=\"gist_stern\")\n",
    "# plt.xticks(fontsize=12)\n",
    "# plt.yticks(fontsize=12)\n",
    "# plt.show()"
   ]
  },
  {
   "cell_type": "code",
   "execution_count": 79,
   "id": "d69e6224-ac52-458d-bf26-b2cc20c9c0cd",
   "metadata": {},
   "outputs": [],
   "source": [
    "# from sklearn.linear_model import LinearRegression\n",
    "# from sklearn.linear_model import LogisticRegression\n",
    "# from sklearn.ensemble import RandomForestRegressor\n",
    "# from sklearn.tree import DecisionTreeRegressor\n",
    "# import xgboost as xgb\n",
    "# from sklearn.ensemble import ExtraTreesRegressor\n",
    "# from sklearn.svm import SVR\n",
    "# from sklearn.ensemble import AdaBoostRegressor\n",
    "# from sklearn.ensemble import  GradientBoostingRegressor\n",
    "# from sklearn.neighbors import KNeighborsRegressor\n",
    "# from sklearn.metrics import mean_squared_error, mean_absolute_error\n",
    "# from sklearn.metrics import r2_score\n",
    "# from sklearn.model_selection import train_test_split\n",
    "# from sklearn.linear_model import  Ridge\n",
    "# from sklearn.linear_model import  Lasso\n",
    "# from xgboost import XGBRegressor"
   ]
  },
  {
   "cell_type": "markdown",
   "id": "2f440091-c9da-451f-9eaa-f0fd751ceefe",
   "metadata": {},
   "source": [
    "<!-- ## Spliting data into train,test data -->"
   ]
  },
  {
   "cell_type": "code",
   "execution_count": 80,
   "id": "dce9502d-fd95-43ab-893a-9cf45bda1a6c",
   "metadata": {},
   "outputs": [],
   "source": [
    "# x = df.drop(['price'],axis=1)\n",
    "# y = df['price']"
   ]
  },
  {
   "cell_type": "code",
   "execution_count": 81,
   "id": "f6059543-3e05-44a6-a145-b76e65089080",
   "metadata": {},
   "outputs": [],
   "source": [
    "# x.tail()"
   ]
  },
  {
   "cell_type": "code",
   "execution_count": 82,
   "id": "9f8668db-1aed-4b92-b8d1-6ce97ebf0fb8",
   "metadata": {},
   "outputs": [],
   "source": [
    "# y.head()"
   ]
  },
  {
   "cell_type": "code",
   "execution_count": 83,
   "id": "58f734c3-940e-4632-af84-c44f6ae36be1",
   "metadata": {},
   "outputs": [],
   "source": [
    "# x.describe()"
   ]
  },
  {
   "cell_type": "code",
   "execution_count": 84,
   "id": "b51b1744-1310-44a8-bfb6-40d33470fe83",
   "metadata": {},
   "outputs": [],
   "source": [
    "# x_train, x_test, y_train, y_test =  train_test_split(x, y, train_size=0.7,random_state=42)\n",
    "# print('Training feature matrix size:',x_train.shape)\n",
    "# print('Training target vector size:',y_train.shape)\n",
    "# print('Test feature matrix size:',x_test.shape)\n",
    "# print('Test target vector size:',y_test.shape)"
   ]
  },
  {
   "cell_type": "markdown",
   "id": "d6839d59-891f-454f-9994-48fc4bd54c04",
   "metadata": {},
   "source": [
    "<!-- ## Linear Regression Base Model -->"
   ]
  },
  {
   "cell_type": "code",
   "execution_count": 85,
   "id": "e6f999d9-499b-49be-b06f-35fd40cc2fa8",
   "metadata": {},
   "outputs": [],
   "source": [
    "# # create the model\n",
    "# model = LinearRegression()\n",
    "\n",
    "# # train the model\n",
    "# model.fit(x_train, y_train)"
   ]
  },
  {
   "cell_type": "code",
   "execution_count": 86,
   "id": "4811f3d9-fb4d-4c89-a65f-9c567a4eb0a2",
   "metadata": {},
   "outputs": [],
   "source": [
    "# y_pred=model.predict(x_test)"
   ]
  },
  {
   "cell_type": "code",
   "execution_count": 87,
   "id": "1bb665b7-d39d-4853-aef9-4082b93529ef",
   "metadata": {},
   "outputs": [],
   "source": [
    "# model.predict(x_test)"
   ]
  },
  {
   "cell_type": "code",
   "execution_count": 88,
   "id": "ed796461-7a5d-43ee-8ce9-e298114b6786",
   "metadata": {},
   "outputs": [],
   "source": [
    "# print('\\033[1m'+' Error :'+'\\033[0m')\n",
    "# print('Mean absolute error :', mean_absolute_error(y_test,y_pred))\n",
    "# print('Mean squared error :', mean_squared_error(y_test,y_pred))\n",
    "# print('Root Mean Squared Error:', np.sqrt(mean_squared_error(y_test,y_pred)))\n",
    "# print('\\n')\n",
    "# from sklearn.metrics import r2_score\n",
    "# print('\\033[1m'+' R2 Score :'+'\\033[0m')\n",
    "# print(r2_score(y_test,y_pred,multioutput='variance_weighted'))"
   ]
  },
  {
   "cell_type": "markdown",
   "id": "f7b9857a-ecd9-4ecd-87f0-f9d15ba312cd",
   "metadata": {},
   "source": [
    "<!-- ## Pick Best model for this dataset¶ -->"
   ]
  },
  {
   "cell_type": "code",
   "execution_count": 89,
   "id": "d624d8fd-56e2-45e8-b99a-5967e958e203",
   "metadata": {},
   "outputs": [],
   "source": [
    "# # pick different model and test which is better \n",
    "# Linear_reg = LinearRegression(),\n",
    "# Ride_reg= Ridge()\n",
    "# XGBoost = XGBRegressor()\n",
    "# Random_forest = RandomForestRegressor()\n",
    "# Ada_boost = AdaBoostRegressor()\n",
    "# Grad_boost = GradientBoostingRegressor()"
   ]
  },
  {
   "cell_type": "code",
   "execution_count": 90,
   "id": "3243cf0b-cf9e-487f-8246-894b79c26543",
   "metadata": {},
   "outputs": [],
   "source": [
    "# Linear_reg = LinearRegression(),\n",
    "# Ride_reg= Ridge()\n",
    "# XGBoost = XGBRegressor()\n",
    "# Random_forest = RandomForestRegressor()\n",
    "# Ada_boost = AdaBoostRegressor()\n",
    "# Grad_boost = GradientBoostingRegressor()\n",
    "# model_li = [Ride_reg,XGBoost,Random_forest,Ada_boost,Grad_boost]\n",
    "# for model in model_li:\n",
    "#     model.fit(x_train,y_train)\n",
    "#     model.score(x_train,y_train)\n",
    "#     y_pred = model.predict(x_test)\n",
    "#     print('\\n')                                        \n",
    "#     print('\\033[1m'+' Error of ', model, ':' +'\\033[0m')\n",
    "#     print('Mean absolute error :', mean_absolute_error(y_test,y_pred))\n",
    "#     print('Mean squared error :', mean_squared_error(y_test,y_pred))\n",
    "#     print('Root Mean Squared Error:', np.sqrt(mean_squared_error(y_test,y_pred)))\n",
    "#     print('\\n')\n",
    "\n",
    "#     print('\\033[1m'+' R2 Score for test data:'+'\\033[0m')\n",
    "#     print(r2_score(y_test,y_pred)) \n",
    "#     prediction = model.predict([[0.777778,0.375,0.4,1.0,1.0,1.0,1.0,0.045938,0.0]])\n",
    "#     print('Prediction =',prediction)\n",
    "#     print('==============================================================================================================')"
   ]
  },
  {
   "cell_type": "code",
   "execution_count": 91,
   "id": "723f17f2-5f12-46a2-ac86-ca6209bd10f5",
   "metadata": {},
   "outputs": [],
   "source": [
    "# Linear_reg = LinearRegression(),\n",
    "# Ride_reg= Ridge()\n",
    "# XGBoost = XGBRegressor()\n",
    "# Random_forest = RandomForestRegressor()\n",
    "# Ada_boost = AdaBoostRegressor()\n",
    "# Grad_boost = GradientBoostingRegressor()\n",
    "# model_li = [Ride_reg,XGBoost,Random_forest,Ada_boost,Grad_boost]\n",
    "# for model in model_li:\n",
    "#     model.fit(x_train,y_train)\n",
    "#     model.score(x_train,y_train)\n",
    "#     y_pred = model.predict(x_train)\n",
    "#     print('\\n')                                        \n",
    "#     print('\\033[1m'+' Error of ', model, ':' +'\\033[0m')\n",
    "#     print('Mean absolute error :', mean_absolute_error(y_train,y_pred))\n",
    "#     print('Mean squared error :', mean_squared_error(y_train,y_pred))\n",
    "#     print('Root Mean Squared Error:', np.sqrt(mean_squared_error(y_train,y_pred)))\n",
    "#     print('\\n')\n",
    "\n",
    "#     print('\\033[1m'+' R2 Score for train data :'+'\\033[0m')\n",
    "#     print(r2_score(y_train,y_pred)) \n",
    "#     print('==============================================================================================================')"
   ]
  },
  {
   "cell_type": "code",
   "execution_count": 92,
   "id": "41111db5-0fe0-425b-b227-642ddbf1470c",
   "metadata": {},
   "outputs": [],
   "source": [
    "# x.head()"
   ]
  },
  {
   "cell_type": "code",
   "execution_count": 93,
   "id": "157a6116-0434-44d8-a038-bb9a9008c5ca",
   "metadata": {},
   "outputs": [],
   "source": [
    "# model1 = RandomForestRegressor()\n",
    "# model1.fit(x_train,y_train)\n",
    "# model1.score(x_train,y_train)\n",
    "# y_pred = model1.predict(x_train)\n",
    "# print('\\n')                                        \n",
    "# print('\\033[1m'+' Error of ', model1, ':' +'\\033[0m')\n",
    "# print('Mean absolute error :', mean_absolute_error(y_train,y_pred))\n",
    "# print('Mean squared error :', mean_squared_error(y_train,y_pred))\n",
    "# print('Root Mean Squared Error:', np.sqrt(mean_squared_error(y_train,y_pred)))\n",
    "# print('\\n')\n",
    "\n",
    "# print('\\033[1m'+' R2 Score for train data :'+'\\033[0m')\n",
    "# print(r2_score(y_train,y_pred)) "
   ]
  },
  {
   "cell_type": "code",
   "execution_count": 94,
   "id": "8fc58e5d-9ffd-4cd4-911b-398fb664f79d",
   "metadata": {},
   "outputs": [],
   "source": [
    "# prediction1 = model1.predict([[0.777778,0.375,0.4,1.0,1.0,1.0,1.0,0.045938,0.0]])\n",
    "# prediction1"
   ]
  },
  {
   "cell_type": "code",
   "execution_count": 95,
   "id": "661ffaaf-ec82-4f22-940d-a1278d80d8da",
   "metadata": {},
   "outputs": [],
   "source": [
    "# prediction2 = model1.predict([[0.777778,0.375,0.2,1.0,0.8,1.0,1.0,0.051423,0.0]])\n",
    "# prediction2"
   ]
  },
  {
   "cell_type": "code",
   "execution_count": 96,
   "id": "d8e2fe57-bea3-4a7e-970f-5ef3a531d13b",
   "metadata": {},
   "outputs": [],
   "source": [
    "# prediction3 = model1.predict([[0.111111,0.25,1.0,0.5,0.8,0.750,1.0,0.348646,0.877551]])\n",
    "# prediction3"
   ]
  },
  {
   "cell_type": "markdown",
   "id": "36d4087a-9092-4ccc-b4cb-47af0ac47344",
   "metadata": {},
   "source": [
    "<!-- # Regression using DL -->"
   ]
  },
  {
   "cell_type": "code",
   "execution_count": null,
   "id": "7a72132c-94c7-4d99-9ad9-58b6ece63bcf",
   "metadata": {},
   "outputs": [],
   "source": []
  },
  {
   "cell_type": "code",
   "execution_count": null,
   "id": "8ecc2b62-1339-4e8d-9e3e-f109cfcc7778",
   "metadata": {},
   "outputs": [],
   "source": []
  }
 ],
 "metadata": {
  "kernelspec": {
   "display_name": "Python 3",
   "language": "python",
   "name": "python3"
  },
  "language_info": {
   "codemirror_mode": {
    "name": "ipython",
    "version": 3
   },
   "file_extension": ".py",
   "mimetype": "text/x-python",
   "name": "python",
   "nbconvert_exporter": "python",
   "pygments_lexer": "ipython3",
   "version": "3.12.5"
  }
 },
 "nbformat": 4,
 "nbformat_minor": 5
}
